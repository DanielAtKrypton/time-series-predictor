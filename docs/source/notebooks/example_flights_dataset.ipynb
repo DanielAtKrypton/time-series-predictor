{
 "cells": [
  {
   "cell_type": "markdown",
   "metadata": {},
   "source": [
    "# Flights passengers example\n",
    "## Imports"
   ]
  },
  {
   "cell_type": "code",
   "execution_count": null,
   "metadata": {},
   "outputs": [],
   "source": [
    "import torch\n",
    "import numpy as np\n",
    "import calendar\n",
    "from datetime import timedelta, datetime\n",
    "from matplotlib import pyplot as plt\n",
    "\n",
    "from time_series_predictor import TimeSeriesPredictor\n",
    "from time_series_models import BenchmarkLSTM\n",
    "from flights_time_series_dataset import FlightsDataset, convert_year_month_array_to_datetime"
   ]
  },
  {
   "cell_type": "markdown",
   "metadata": {},
   "source": [
    "## Config"
   ]
  },
  {
   "cell_type": "code",
   "execution_count": null,
   "metadata": {},
   "outputs": [],
   "source": [
    "plot_config = {}\n",
    "plot_config['training progress'] = True\n",
    "plot_config['prediction on training data'] = True\n",
    "plot_config['prediction on validation data'] = True\n",
    "plot_config['forecast'] = True\n",
    "\n",
    "forecast_config = {}\n",
    "forecast_config['include history'] = True\n",
    "forecast_config['months ahead'] = 24\n",
    "\n",
    "predictor_config = {}\n",
    "predictor_config['epochs'] = 1000\n",
    "predictor_config['learning rate'] = 1e-2\n",
    "predictor_config['hidden dim'] = 100\n",
    "predictor_config['layers num'] = 3\n",
    "\n",
    "config = {}\n",
    "config['plot'] = plot_config\n",
    "config['forecast'] = forecast_config\n",
    "config['predictor'] = predictor_config\n",
    "config['predict on training data enabled'] = True\n",
    "config['forecast enabled'] = True"
   ]
  },
  {
   "cell_type": "markdown",
   "metadata": {},
   "source": [
    "## Time Series Predictor instantiation"
   ]
  },
  {
   "cell_type": "code",
   "execution_count": null,
   "metadata": {},
   "outputs": [],
   "source": [
    "tsp = TimeSeriesPredictor(\n",
    "    BenchmarkLSTM(\n",
    "        hidden_dim=config['predictor']['hidden dim'],\n",
    "        num_layers=config['predictor']['layers num']\n",
    "    ),\n",
    "    lr=config['predictor']['learning rate'],\n",
    "    max_epochs=predictor_config['epochs'],\n",
    "    train_split=None,\n",
    "    optimizer=torch.optim.Adam\n",
    ")"
   ]
  },
  {
   "cell_type": "markdown",
   "metadata": {},
   "source": [
    "## Training process"
   ]
  },
  {
   "cell_type": "code",
   "execution_count": null,
   "metadata": {},
   "outputs": [],
   "source": [
    "ds = FlightsDataset()\n",
    "tsp.fit(ds)"
   ]
  },
  {
   "cell_type": "markdown",
   "metadata": {},
   "source": [
    "### Plot training evolution"
   ]
  },
  {
   "cell_type": "code",
   "execution_count": null,
   "metadata": {},
   "outputs": [],
   "source": [
    "if config['plot']['training progress']:\n",
    "    history_length = len(tsp.ttr.regressor_['regressor'].history)\n",
    "    train_loss = np.zeros((history_length, 1))\n",
    "    for epoch in tsp.ttr.regressor_['regressor'].history:\n",
    "        epoch_number = epoch['epoch']-1\n",
    "        train_loss[epoch_number] = epoch['train_loss']\n",
    "    _, axes_one = plt.subplots(figsize=(20, 20))\n",
    "    axes_one.plot(train_loss, 'o-', label='training')\n",
    "    axes_one.set_xlabel('Epoch')\n",
    "    axes_one.set_ylabel('MSE')\n",
    "    plt.legend()"
   ]
  },
  {
   "cell_type": "markdown",
   "metadata": {},
   "source": [
    "## Prediction on training data"
   ]
  },
  {
   "cell_type": "code",
   "execution_count": null,
   "metadata": {},
   "outputs": [],
   "source": [
    "if config['predict on training data enabled']:\n",
    "    dataloader = tsp.ttr.regressor['regressor'].get_iterator(tsp.dataset)\n",
    "    x, y = dataloader.dataset[:]\n",
    "    netout = tsp.predict(x)\n",
    "    d_output = netout.shape[-1]\n",
    "    if config['plot']['prediction on training data']:\n",
    "        fig, axs = plt.subplots(d_output, 1, figsize=(20,20))\n",
    "        axs = [axs]\n",
    "    idx_range = [np.random.randint(0, len(tsp.dataset))]\n",
    "    for idx in idx_range:\n",
    "        if config['plot']['prediction on training data']:\n",
    "            x_absciss = convert_year_month_array_to_datetime(x[idx, :, :])\n",
    "        for idx_output_var in range(d_output):\n",
    "            # Select real passengers data\n",
    "            y_true = y[idx, :, idx_output_var]\n",
    "\n",
    "            y_pred = netout[idx, :, idx_output_var]\n",
    "            if config['plot']['prediction on training data']:\n",
    "                ax = axs[idx_output_var]\n",
    "                ax.plot(x_absciss, y_true, label=\"Truth\", color='tab:blue')\n",
    "                ax.plot(x_absciss, y_pred, label=\"Prediction\", color='tab:orange')\n",
    "                if idx == idx_range[0]:\n",
    "                    ax.set_title(tsp.dataset.labels['y'][idx_output_var] + ' over time')\n",
    "                    ax.set_xlabel('date')\n",
    "                    ax.set_ylabel(tsp.dataset.labels['y'][idx_output_var])\n",
    "                    ax.legend()\n",
    "    if config['plot']['prediction on training data']:\n",
    "        plt.show()"
   ]
  },
  {
   "cell_type": "markdown",
   "metadata": {},
   "source": [
    "## Future forecast"
   ]
  },
  {
   "cell_type": "code",
   "execution_count": null,
   "metadata": {},
   "outputs": [],
   "source": [
    "# def make_x_pred(x, n_months_ahead, include_history=True):\n",
    "#     def raw_add_months(sourcedate, n_months):\n",
    "#         month = sourcedate.month - 1 + n_months\n",
    "#         year = sourcedate.year + month // 12\n",
    "#         month = month % 12 + 1\n",
    "#         day = min(sourcedate.day, calendar.monthrange(year,month)[1])\n",
    "#         return datetime(year, month, day)\n",
    "#     def add_months(months, n_months):\n",
    "#         return [raw_add_months(month, n_months) for month in months]\n",
    "#     def add_months_2(month, n_months):\n",
    "#         return [raw_add_months(month, n_month) for n_month in n_months]\n",
    "#     x_dates = convert_year_month_array_to_datetime(x.squeeze())\n",
    "#     last_month = x_dates[-1:][0]\n",
    "#     next_n_months = add_months_2(last_month, np.arange(n_months_ahead)+1)\n",
    "#     if include_history:\n",
    "#         n_months = x_dates + next_n_months\n",
    "#     else:\n",
    "#         n_months = next_n_months\n",
    "#     x_pred = np.array([[dt.month, dt.year] for dt in n_months]).reshape(1, -1, 2).astype(np.float32)\n",
    "#     return x_pred\n",
    "\n",
    "if config['forecast enabled']:\n",
    "    dataloader = tsp.ttr.regressor['regressor'].get_iterator(tsp.dataset)\n",
    "    x, y = dataloader.dataset[:]\n",
    "    # x_pred = make_x_pred(x, config['forecast']['months ahead'])\n",
    "    # netout = tsp.predict(x_pred)\n",
    "    netout, x_pred = tsp.forecast(config['forecast']['months ahead'], include_history = config['forecast']['include history'])\n",
    "    d_output = netout.shape[-1]\n",
    "    if config['plot']['forecast']:\n",
    "        fig, axs = plt.subplots(d_output, 1, figsize=(20,20))\n",
    "        axs = [axs]\n",
    "    idx_range = [np.random.randint(0, len(tsp.dataset))]\n",
    "    for idx in idx_range:\n",
    "        if config['plot']['forecast']:\n",
    "            x_absciss = convert_year_month_array_to_datetime(x[idx, :, :])\n",
    "            x_pred_absciss = convert_year_month_array_to_datetime(x_pred[idx, :, :])\n",
    "        for idx_output_var in range(d_output):\n",
    "            # Select real passengers data\n",
    "            y_true = y[idx, :, idx_output_var]\n",
    "\n",
    "            y_pred = netout[idx, :, idx_output_var]\n",
    "            if config['plot']['prediction on validation data']:\n",
    "                ax = axs[idx_output_var]\n",
    "                ax.plot(x_pred_absciss, y_pred, label=\"Prediction\", color='tab:orange')\n",
    "                ax.plot(x_absciss, y_true, label=\"Truth\", color='tab:blue')\n",
    "                if idx == idx_range[0]:\n",
    "                    ax.set_title(tsp.dataset.labels['y'][idx_output_var] + ' over time')\n",
    "                    ax.set_xlabel('date')\n",
    "                    ax.set_ylabel(tsp.dataset.labels['y'][idx_output_var])\n",
    "                    ax.legend()\n",
    "    if config['plot']['prediction on validation data']:\n",
    "        plt.show()"
   ]
  },
  {
   "cell_type": "code",
   "execution_count": null,
   "metadata": {},
   "outputs": [],
   "source": []
  }
 ],
 "metadata": {
  "orig_nbformat": 2
 },
 "nbformat": 4,
 "nbformat_minor": 2
}