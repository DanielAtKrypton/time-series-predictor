{
 "cells": [
  {
   "cell_type": "markdown",
   "metadata": {},
   "source": [
    "# Example usage\n",
    "## Imports"
   ]
  },
  {
   "cell_type": "code",
   "execution_count": null,
   "metadata": {},
   "outputs": [],
   "source": [
    "import numpy as np\n",
    "from matplotlib import pyplot as plt\n",
    "\n",
    "from src.lstm_tsp import LSTMTimeSeriesPredictor\n",
    "from src.flights_dataset import FlightsDataset"
   ]
  },
  {
   "cell_type": "markdown",
   "metadata": {},
   "source": [
    "## Config"
   ]
  },
  {
   "cell_type": "code",
   "execution_count": null,
   "metadata": {},
   "outputs": [],
   "source": [
    "plot_config = {}\n",
    "plot_config['training progress'] = False\n",
    "plot_config['prediction on training data'] = False\n",
    "plot_config['forecast'] = True\n",
    "\n",
    "forecast_config = {}\n",
    "forecast_config['include history'] = True\n",
    "forecast_config['months ahead'] = 24\n",
    "\n",
    "predictor_config = {}\n",
    "predictor_config['epochs'] = 50\n",
    "predictor_config['learning rate'] = 1e-2\n",
    "predictor_config['hidden dim'] = 100\n",
    "predictor_config['layers num'] = 3\n",
    "\n",
    "config = {}\n",
    "config['plot'] = plot_config\n",
    "config['forecast'] = forecast_config\n",
    "config['predictor'] = predictor_config\n",
    "config['predict enabled'] = False\n",
    "config['forecast enabled'] = True"
   ]
  },
  {
   "cell_type": "markdown",
   "metadata": {},
   "source": [
    "## Time Series Predictor instantiation"
   ]
  },
  {
   "cell_type": "code",
   "execution_count": null,
   "metadata": {},
   "outputs": [],
   "source": [
    "tsp = LSTMTimeSeriesPredictor(learning_rate=config['predictor']['learning rate'],\n",
    "                              epochs=config['predictor']['epochs'],\n",
    "                              hidden_dim=config['predictor']['hidden dim'],\n",
    "                              num_layers=config['predictor']['layers num'])"
   ]
  },
  {
   "cell_type": "markdown",
   "metadata": {},
   "source": [
    "## Training process"
   ]
  },
  {
   "cell_type": "code",
   "execution_count": null,
   "metadata": {},
   "outputs": [],
   "source": [
    "hist_loss = tsp.fit(FlightsDataset())\n",
    "# training_dataframe = tsp.get_training_dataframe()\n",
    "\n",
    "if config['plot']['training progress']:\n",
    "    plt.figure()\n",
    "    plt.plot(hist_loss, 'o-', label='train')\n",
    "    plt.show()"
   ]
  },
  {
   "cell_type": "markdown",
   "metadata": {},
   "source": [
    "## Prediction on training data"
   ]
  },
  {
   "cell_type": "code",
   "execution_count": null,
   "metadata": {},
   "outputs": [],
   "source": [
    "if config['predict enabled']:\n",
    "    # Select training example\n",
    "    idx = np.random.randint(0, len(tsp.dataloader.dataset))\n",
    "    x, y = tsp.dataloader.dataset[idx]\n",
    "\n",
    "    # Run predictions\n",
    "    netout = tsp.predict(x)\n",
    "\n",
    "    if config['plot']['prediction on training data']:\n",
    "        plt.figure()\n",
    "    d_output = netout.shape[2]\n",
    "    for idx_output_var in range(d_output):\n",
    "        # Select real passengers data\n",
    "        y_true = y[:, idx_output_var]\n",
    "\n",
    "        y_pred = netout[idx, :, idx_output_var]\n",
    "\n",
    "        if config['plot']['prediction on training data']:\n",
    "            plt.subplot(d_output, 1, idx_output_var+1)\n",
    "\n",
    "            plt.plot(y_true, label=\"Truth\")\n",
    "            plt.plot(y_pred, label=\"Prediction\")\n",
    "            plt.title(tsp.dataloader.dataset.labels['y'][idx_output_var])\n",
    "            plt.legend()\n",
    "    if config['plot']['prediction on training data']:\n",
    "        plt.show()"
   ]
  },
  {
   "cell_type": "markdown",
   "metadata": {},
   "source": [
    "## Future forecast"
   ]
  },
  {
   "cell_type": "code",
   "execution_count": null,
   "metadata": {},
   "outputs": [],
   "source": [
    "# Run forecast\n",
    "if config['forecast enabled']:\n",
    "    netout = tsp.forecast(config['forecast']['months ahead'],\n",
    "                          include_history=config['forecast']['include history'])\n",
    "\n",
    "    if config['plot']['forecast']:\n",
    "        plt.figure()\n",
    "    d_output = netout.shape[2]\n",
    "    # Select any training example just for comparison\n",
    "    idx = np.random.randint(0, len(tsp.dataloader.dataset))\n",
    "    x, y = tsp.dataloader.dataset[idx]\n",
    "    for idx_output_var in range(d_output):\n",
    "        # Select real passengers data\n",
    "        y_true = y[:, idx_output_var]\n",
    "\n",
    "        y_pred = netout[idx, :, idx_output_var]\n",
    "\n",
    "        if config['plot']['forecast']:\n",
    "            plt.subplot(d_output, 1, idx_output_var+1)\n",
    "\n",
    "            if config['forecast']['include history']:\n",
    "                plot_args = [y_pred]\n",
    "            else:\n",
    "                y_pred_index = [i+tsp.dataset.get_x_shape()[1]+1 for i in range(len(y_pred))]\n",
    "                plot_args = [y_pred_index, y_pred]\n",
    "            plt.plot(*plot_args, label=\"Prediction\")\n",
    "            plt.plot(y_true, label=\"Truth\")\n",
    "            plt.title(tsp.dataloader.dataset.labels['y'][idx_output_var])\n",
    "            plt.legend()\n",
    "    if config['plot']['forecast']:\n",
    "        plt.show()"
   ]
  }
 ],
 "nbformat": 4,
 "nbformat_minor": 2
}