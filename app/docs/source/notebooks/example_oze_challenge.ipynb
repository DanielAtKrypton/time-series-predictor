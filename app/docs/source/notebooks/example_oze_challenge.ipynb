{
 "cells": [
  {
   "cell_type": "markdown",
   "metadata": {},
   "source": [
    "# Oze challenge example\n",
    "## Imports"
   ]
  },
  {
   "cell_type": "code",
   "execution_count": null,
   "metadata": {},
   "outputs": [],
   "source": [
    "import os\n",
    "from pathlib import Path\n",
    "import numpy as np\n",
    "import skorch\n",
    "import torch\n",
    "from skorch.callbacks import EarlyStopping\n",
    "from matplotlib import pyplot as plt\n",
    "\n",
    "from app.time_series_predictor import TimeSeriesPredictor\n",
    "from app.src.model import BenchmarkLSTM\n",
    "from app.src.oze_dataset import OzeNPZDataset, npz_check"
   ]
  },
  {
   "cell_type": "markdown",
   "metadata": {},
   "source": [
    "## Config"
   ]
  },
  {
   "cell_type": "code",
   "execution_count": null,
   "metadata": {},
   "outputs": [],
   "source": [
    "plot_config = {}\n",
    "plot_config['training progress'] = True\n",
    "plot_config['prediction on training data'] = True\n",
    "plot_config['forecast'] = True\n",
    "\n",
    "forecast_config = {}\n",
    "forecast_config['include history'] = True\n",
    "forecast_config['steps ahead'] = 500\n",
    "\n",
    "predictor_config = {}\n",
    "predictor_config['epochs'] = 50\n",
    "predictor_config['learning rate'] = 1e-2\n",
    "predictor_config['hidden dim'] = 100\n",
    "predictor_config['layers num'] = 3\n",
    "\n",
    "config = {}\n",
    "config['plot'] = plot_config\n",
    "config['forecast'] = forecast_config\n",
    "config['predictor'] = predictor_config\n",
    "config['predict on training data enabled'] = True\n",
    "config['forecast enabled'] = True"
   ]
  },
  {
   "cell_type": "markdown",
   "metadata": {},
   "source": [
    "## Time Series Predictor instantiation"
   ]
  },
  {
   "cell_type": "code",
   "execution_count": null,
   "metadata": {},
   "outputs": [],
   "source": [
    "tsp = TimeSeriesPredictor(\n",
    "    BenchmarkLSTM(\n",
    "        hidden_dim=config['predictor']['hidden dim'],\n",
    "        num_layers=config['predictor']['layers num']\n",
    "    ),\n",
    "    early_stopping=EarlyStopping(patience=30),\n",
    "    lr=config['predictor']['learning rate'],\n",
    "    max_epochs=predictor_config['epochs'],\n",
    "    # train_split=None, # default = skorch.dataset.CVSplit(5)\n",
    "    optimizer=torch.optim.Adam\n",
    ")"
   ]
  },
  {
   "cell_type": "markdown",
   "metadata": {},
   "source": [
    "## Training process"
   ]
  },
  {
   "cell_type": "code",
   "execution_count": null,
   "metadata": {},
   "outputs": [],
   "source": [
    "ds = OzeNPZDataset(\n",
    "    dataset_path=npz_check(\n",
    "        Path('..', '..', '..', 'datasets'),\n",
    "        'dataset'\n",
    "    )\n",
    ")\n",
    "tsp.fit(ds)\n",
    "# training_dataframe = tsp.get_training_dataframe()"
   ]
  },
  {
   "cell_type": "markdown",
   "metadata": {},
   "source": [
    "### Plot training evolution"
   ]
  },
  {
   "cell_type": "code",
   "execution_count": null,
   "metadata": {},
   "outputs": [],
   "source": [
    "if config['plot']['training progress']:\n",
    "    history_length = len(tsp.ttr.regressor_['regressor'].history)\n",
    "    train_loss = np.zeros((history_length, 1))\n",
    "    valid_loss = np.zeros((history_length, 1))\n",
    "    for epoch in tsp.ttr.regressor_['regressor'].history:\n",
    "        epoch_number = epoch['epoch']-1\n",
    "        train_loss[epoch_number] = epoch['train_loss']\n",
    "        valid_loss[epoch_number] = epoch['valid_loss']\n",
    "    plt.figure(figsize=(20, 20))\n",
    "    plt.plot(train_loss, 'o-', label='training')\n",
    "    plt.plot(valid_loss, 'o-', label='validation')\n",
    "    axes = plt.axes()\n",
    "    axes.set_xlabel('Epoch')\n",
    "    axes.set_ylabel('MSE')\n",
    "    plt.legend()"
   ]
  },
  {
   "cell_type": "markdown",
   "metadata": {},
   "source": [
    "## Prediction on training data"
   ]
  },
  {
   "cell_type": "code",
   "execution_count": null,
   "metadata": {},
   "outputs": [],
   "source": [
    "if config['predict on training data enabled']:\n",
    "    # Select training example\n",
    "    idx = np.random.randint(0, len(tsp.dataset))\n",
    "    dataloader = tsp.ttr.regressor['regressor'].get_iterator(tsp.dataset)\n",
    "    x, y = dataloader.dataset[idx]\n",
    "\n",
    "    # Run predictions\n",
    "    netout = tsp.sample_predict(x)\n",
    "\n",
    "    d_output = netout.shape[1]\n",
    "    for idx_output_var in range(d_output):\n",
    "        # Select real passengers data\n",
    "        y_true = y[:, idx_output_var]\n",
    "\n",
    "        y_pred = netout[:, idx_output_var]\n",
    "\n",
    "        if config['plot']['prediction on training data']:\n",
    "            plt.figure(figsize=(20, 20))\n",
    "            plt.subplot(d_output, 1, idx_output_var+1)\n",
    "\n",
    "            plt.plot(y_true, label=\"Truth\")\n",
    "            plt.plot(y_pred, label=\"Prediction\")\n",
    "            plt.title(tsp.dataset.labels['X'][idx_output_var])\n",
    "            plt.legend()"
   ]
  },
  {
   "cell_type": "markdown",
   "metadata": {},
   "source": [
    "## Future forecast"
   ]
  },
  {
   "cell_type": "code",
   "execution_count": null,
   "metadata": {},
   "outputs": [],
   "source": [
    "# Run forecast\n",
    "if config['forecast enabled']:\n",
    "    netout = tsp.forecast(config['forecast']['steps ahead'],\n",
    "                          include_history=config['forecast']['include history'])\n",
    "\n",
    "    d_output = netout.shape[-1]\n",
    "    # Select any training example just for comparison\n",
    "    idx = np.random.randint(0, config['forecast']['steps ahead'])\n",
    "    dataloader = tsp.ttr.regressor['regressor'].get_iterator(tsp.dataset)\n",
    "    x, y = dataloader.dataset[idx]\n",
    "    for idx_output_var in range(d_output):\n",
    "        # Select real passengers data\n",
    "        y_true = y[:, idx_output_var]\n",
    "\n",
    "        y_pred = netout[idx, :, idx_output_var]\n",
    "\n",
    "        if config['plot']['forecast']:\n",
    "            plt.figure(figsize=(20, 20))\n",
    "            plt.subplot(d_output, 1, idx_output_var+1)\n",
    "\n",
    "            if config['forecast']['include history']:\n",
    "                plot_args = [y_pred]\n",
    "            else:\n",
    "                y_pred_index = [i+tsp.dataset.get_x_shape()[1]+1 for i in range(len(y_pred))]\n",
    "                plot_args = [y_pred_index, y_pred]\n",
    "            plt.plot(*plot_args, label=\"Prediction\")\n",
    "            plt.plot(y_true, label=\"Truth\")\n",
    "            plt.title(tsp.dataset.labels['X'][idx_output_var])\n",
    "            plt.legend()"
   ]
  },
  {
   "cell_type": "code",
   "execution_count": null,
   "metadata": {},
   "outputs": [],
   "source": []
  }
 ],
 "metadata": {
  "orig_nbformat": 2
 },
 "nbformat": 4,
 "nbformat_minor": 2
}